{
  "nbformat": 4,
  "nbformat_minor": 0,
  "metadata": {
    "colab": {
      "machine_shape": "hm",
      "gpuType": "T4",
      "provenance": [],
      "include_colab_link": true
    },
    "accelerator": "GPU",
    "kaggle": {
      "accelerator": "gpu"
    },
    "language_info": {
      "name": "python"
    },
    "kernelspec": {
      "name": "python3",
      "display_name": "Python 3"
    }
  },
  "cells": [
    {
      "cell_type": "markdown",
      "metadata": {
        "id": "view-in-github",
        "colab_type": "text"
      },
      "source": [
        "<a href=\"https://colab.research.google.com/github/lucamar90/lucamar90/blob/main/FLUX_1_Kontext_dev_GGUF.ipynb\" target=\"_parent\"><img src=\"https://colab.research.google.com/assets/colab-badge.svg\" alt=\"Open In Colab\"/></a>"
      ]
    },
    {
      "cell_type": "markdown",
      "source": [
        "## Local Inference on GPU\n",
        "Model page: https://huggingface.co/bullerwins/FLUX.1-Kontext-dev-GGUF\n",
        "\n",
        "⚠️ If the generated code snippets do not work, please open an issue on either the [model repo](https://huggingface.co/bullerwins/FLUX.1-Kontext-dev-GGUF)\n",
        "\t\t\tand/or on [huggingface.js](https://github.com/huggingface/huggingface.js/blob/main/packages/tasks/src/model-libraries-snippets.ts) 🙏"
      ],
      "metadata": {
        "id": "7WYT1mFJ8rhy"
      }
    },
    {
      "cell_type": "code",
      "source": [
        "# integration status unknown.\n",
        "\n",
        "# Please clone model and use locally.\n",
        "\n",
        "# Also feel free to open a Pull request\n",
        "# for integration of the huggingface model hub\n",
        "# into the corresponding library =)"
      ],
      "metadata": {
        "id": "WzwxOtl18rhy"
      },
      "execution_count": 1,
      "outputs": []
    }
  ]
}